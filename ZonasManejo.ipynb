{
 "cells": [
  {
   "cell_type": "markdown",
   "metadata": {},
   "source": [
    "######  01 - Importar Módulos necessários"
   ]
  },
  {
   "cell_type": "code",
   "execution_count": 23,
   "metadata": {},
   "outputs": [],
   "source": [
    "import arcpy\n",
    "import math\n",
    "from arcpy import env\n",
    "from arcpy.sa import *"
   ]
  },
  {
   "cell_type": "markdown",
   "metadata": {},
   "source": [
    "###### 02 - Informar dados de entrada estão salvos"
   ]
  },
  {
   "cell_type": "code",
   "execution_count": 24,
   "metadata": {},
   "outputs": [],
   "source": [
    "#Pasta onde estão os rasters a serem incluídos na análise multivariada\n",
    "input_folder = \"D:/ZONAS_MANEJO\"\n",
    "\n",
    "#Endereço do shapefile que será usado como mascara \n",
    "shp_mask = \"D:/ZONAS_MANEJO/SHP/area.shp\"\n",
    "\n",
    "#Quantidade de Componentes Princpipais a serem selecionadas \n",
    "num_of_PCs = 3\n",
    "\n",
    "#Quantidade de clusters a serem criados na análise multivariada.\n",
    "#Se o valor for igual a 0, o ArcGIS define a quantidade de grupos em função da pseudo estatistica F.\n",
    "num_of_clusters = 4\n",
    "\n",
    "#Define o método de clusterização as ser utilizado\n",
    "# k-médias (metodo = 1) ou k-medoides (metodo = 2) \n",
    "metodo = 2\n",
    "\n",
    "#Area mínima (em hectares) da ZM\n",
    "area_min = 1.0"
   ]
  },
  {
   "cell_type": "markdown",
   "metadata": {},
   "source": [
    "###### 03 - Cria pastas onde os resultados serão salvos"
   ]
  },
  {
   "cell_type": "code",
   "execution_count": 25,
   "metadata": {},
   "outputs": [
    {
     "data": {
      "text/html": [
       "<div class='gpresult'><h2>Messages</h2><div id='messages' data-messages='[\"Start Time: terça-feira, 14 de dezembro de 2021 18:40:47\",\"Succeeded at terça-feira, 14 de dezembro de 2021 18:40:47 (Elapsed Time: 0,16 seconds)\"]' data-show='true'><div id = 'default' /></div></div>"
      ],
      "text/plain": [
       "<Result 'true'>"
      ]
     },
     "execution_count": 25,
     "metadata": {},
     "output_type": "execute_result"
    }
   ],
   "source": [
    "#Cria pasta de resultados\n",
    "arcpy.CreateFolder_management(input_folder,\"RESULTADOS\")\n",
    "\n",
    "#Limpa pasta temporaria\n",
    "arcpy.Delete_management(\"in_memory\")"
   ]
  },
  {
   "cell_type": "markdown",
   "metadata": {},
   "source": [
    "###### 04 - Inicia processo de recorte, padronização e redimensinamento dos rasters de entrada"
   ]
  },
  {
   "cell_type": "code",
   "execution_count": 26,
   "metadata": {},
   "outputs": [],
   "source": [
    "arcpy.env.overwriteOutput = True\n",
    "arcpy.env.workspace = input_folder\n",
    "for raster_file in arcpy.ListFiles(\"*.TIF\"):\n",
    "    raster_file_mskd = ExtractByMask(raster_file, shp_mask)\n",
    "    arcpy.CalculateStatistics_management (raster_file_mskd)\n",
    "    rst = arcpy.Raster(raster_file_mskd)\n",
    "    rst_avg = rst.mean\n",
    "    rst_sd = rst.standardDeviation\n",
    "    standarized = ((rst-rst_avg)/rst_sd)\n",
    "    standarized_min = standarized.minimum\n",
    "    standarized_max = standarized.maximum\n",
    "    standarized_scaled = ((standarized - standarized.minimum) * (255-0) / \n",
    "                          (standarized.maximum - standarized.minimum)) + 0\n",
    "    part = raster_file.split('.')[0]\n",
    "    out_raster = \"in_memory\\\\\" + part + '_norm.tif'\n",
    "    standarized_scaled.save(out_raster)\t    "
   ]
  },
  {
   "cell_type": "markdown",
   "metadata": {},
   "source": [
    "###### 05 - Realiza Análise de Componentes Principais (ACP)"
   ]
  },
  {
   "cell_type": "code",
   "execution_count": 27,
   "metadata": {},
   "outputs": [
    {
     "data": {
      "text/html": [
       "<div class='gpresult'><h2>Messages</h2><div id='messages' data-messages='[\"Start Time: terça-feira, 14 de dezembro de 2021 18:42:07\",\"WARNING 010559: The input feature class does not have a spatial index.\",\"Succeeded at terça-feira, 14 de dezembro de 2021 18:42:07 (Elapsed Time: 0,02 seconds)\"]' data-show='true'><div id = 'default' /></div></div>"
      ],
      "text/plain": [
       "<geoprocessing server result object object at 0x0000027DF47B1E40>"
      ]
     },
     "execution_count": 27,
     "metadata": {},
     "output_type": "execute_result"
    }
   ],
   "source": [
    "#conta a quantidade de rasters dentro do diretório temporario\n",
    "arcpy.env.workspace = \"in_memory\\\\\"\n",
    "raster_list = arcpy.ListRasters(\"*\", \"TIF\")\n",
    "rst_count = len(raster_list)\n",
    "\n",
    "#Cria lista contendo o nome das bandas slecionadas em função da quantidade de CPS selecionados.\n",
    "PC_list = []\n",
    "if num_of_PCs <= rst_count:\n",
    "\tPC_list.extend(range(1, num_of_PCs+1))\n",
    "else:\n",
    "\tPC_list.extend(range(1, rst_count+1))\t\n",
    "\n",
    "#Executa Analise de Componentes Principais e exporta relatório\n",
    "PC_raster = PrincipalComponents(raster_list, rst_count,input_folder  + \"/RESULTADOS/ACP_report.txt\")\n",
    "\n",
    "#Cria raster com as bandas selecionadas\n",
    "PC_raster_selected = arcpy.ia.ExtractBand(PC_raster, PC_list)\n",
    "\n",
    "#Cria shapefile de pontos contendo os valores de cada banda em um campo separado\n",
    "raster_points = \"in_memory\\\\ACP_pts\"\n",
    "arcpy.RasterToPoint_conversion(PC_raster_selected, raster_points, \"VALUE\")\n",
    "arcpy.management.DeleteField(raster_points, \"grid_code\")\n",
    "ExtractMultiValuesToPoints(raster_points,PC_raster_selected, \"NONE\")"
   ]
  },
  {
   "cell_type": "markdown",
   "metadata": {},
   "source": [
    "###### 06 - Realiza a Analise de Agrupamentos (Clusterização) nos pontos resultantes da ACP"
   ]
  },
  {
   "cell_type": "code",
   "execution_count": 28,
   "metadata": {},
   "outputs": [],
   "source": [
    "#Define a feature class criada com as informações de clusterização\n",
    "clustered_points = \"in_memory\\clustered_pts\"\n",
    "\n",
    "#Cria lista com o nome dos campos que serão utilizados na clusterização\n",
    "fields = arcpy.ListFields(raster_points,\"b*\")\n",
    "field_list = []\n",
    "for field in fields:\n",
    "    field_list.append(field.name)\n",
    "\n",
    "############ Análise de Agrupamento (Clusterização) #############\n",
    "\n",
    "#Define o algoritmo de agrupamento\n",
    "if metodo == 1:\n",
    "    metodo_selecionado = \"K_MEANS\"\n",
    "else:\n",
    "    metodo_selecionado = \"K_MEDOIDS\"\n",
    "\n",
    "#Execução clusterização sem definição de numero de grupos\n",
    "if num_of_clusters == 0:\n",
    "    arcpy.MultivariateClustering_stats(raster_points,clustered_points,field_list,\n",
    "                                       metodo_selecionado,\"OPTIMIZED_SEED_LOCATIONS\",\n",
    "                                       None,\"\",\"in_memory\\pseudo_F_statistics\")\n",
    "    wkspc = arcpy.env.workspace = \"in_memory\\\\\"\n",
    "    tables = arcpy.ListTables('*pseudo_F_statistics')\n",
    "    for table in tables:\n",
    "        out_svg = wkspc + \"pseudo_F_statistics.svg\"\n",
    "        chart = arcpy.Chart(\"Grafico_01\")\n",
    "        chart.title = \"Otimização de Quantidade de Clusters\"\n",
    "        chart.type = \"line\"\n",
    "        chart.xAxis.field = \"NUM_GROUPS\"\n",
    "        chart.yAxis.field = \"PSEUDO_F\"\n",
    "        chart.xAxis.title = \"Qtde. de Clusters\"\n",
    "        chart.yAxis.title = \"Pseudo F Statistics\"\n",
    "        chart.dataSource = table\n",
    "        chart.exportToSVG(input_folder + \"/RESULTADOS/grafico.svg\", width=500, height=400)\n",
    "\n",
    "#Execução com número de grupos definido\n",
    "else:\n",
    "    arcpy.MultivariateClustering_stats(raster_points,clustered_points,field_list,\n",
    "                                       metodo_selecionado,\"OPTIMIZED_SEED_LOCATIONS\",\n",
    "                                       None,num_of_clusters)  \n"
   ]
  },
  {
   "cell_type": "markdown",
   "metadata": {},
   "source": [
    "###### 07 - Converte os resultados da clusterização em poligonos"
   ]
  },
  {
   "cell_type": "code",
   "execution_count": 29,
   "metadata": {},
   "outputs": [],
   "source": [
    "#Define a resolução espaciaL do raster de ZMs\n",
    "rst_cellsize = arcpy.GetRasterProperties_management(PC_raster_selected, \"CELLSIZEX\").getOutput(0)\n",
    "\n",
    "#Converte pontos resuLtantes do cLusterizacdo em raster\n",
    "arcpy.PointToRaster_conversion(clustered_points, \"CLUSTER_ID\", \"in_memory\\Zonas_Manejo_rst\",\"\",\"\", rst_cellsize)\n",
    "\n",
    "#Converte raster em poligonos \n",
    "arcpy.conversion.RasterToPolygon(\"in_memory\\Zonas_Manejo_rst\",\"in_memory\\Zonas_Manejo_fc\", \n",
    "                                 \"NO_SIMPLIFY\",\"\",\"SINGLE_OUTER_PART\",\"\")\n",
    "\n",
    "#Adiciona campo e calcula area geodésica dos poligonos\n",
    "arcpy.management.AddField(\"in_memory\\Zonas_Manejo_fc\", \"AREA\", \"DOUBLE\") \n",
    "arcpy.CalculateField_management(\"in_memory\\Zonas_Manejo_fc\", \"AREA\",\"!shape.geodesicArea@hectares!\",\"PYTHON3\")\n",
    "\n",
    "#Loop para eLiminar poLígonos menores que a area minima \n",
    "arcpy.MakeFeatureLayer_management(\"in_memory\\Zonas_Manejo_fc\", \"ZM\") \n",
    "arcpy.SelectLayerByAttribute_management(\"ZM\", \"NEW_SELECTION\",'\"AREA\" < 1.0') \n",
    "arcpy.Eliminate_management(\"ZM\", \"in_memory\\ZM_E0\",\"AREA\")\n",
    "\n",
    "cursor = arcpy.da.SearchCursor(\"in_memory\\ZM_E0\", \"AREA\")\n",
    "first_rec = True\n",
    "for row in cursor:\n",
    "    if first_rec:\n",
    "        first_rec = False\n",
    "        min_value = float(row[0])\n",
    "    else:\n",
    "        min_value = min(float(row[0]),min_value)\n",
    "i = 0\n",
    "while min_value <= area_min:\n",
    "    arcpy.MakeFeatureLayer_management(\"in_memory\\ZM_E\" + str(i), \"ZM\" + str(i))\n",
    "    arcpy.SelectLayerByAttribute_management(\"ZM\" + str(i), \"NEW_SELECTION\",'\"AREA\" <' + str(area_min)) \n",
    "    arcpy.Eliminate_management(\"ZM\" + str(i), \"in_memory\\ZM_E\" + str(i+1),\"AREA\") \n",
    "    arcpy.CalculateField_management(\"in_memory\\ZME\"+ str(i+1),\"AREA\",\"!shape.geodesicArea@hectares!\",\"PYTHON3\")\n",
    "    \n",
    "    cursor = arcpy.da.SearchCursor(\"in_memory\\ZME\"+ str(i+1),\"AREA\")\n",
    "    first_rec = True\n",
    "    for row in cursor:\n",
    "        if first_rec:\n",
    "            first_rec = False\n",
    "            min_value = float(row[0])\n",
    "        else:\n",
    "            min_value = min(float(row[0]),min_value)\n",
    "    i = i + 1\n",
    "\n",
    "#Cria shapefiLe das Zonas de Manejo\n",
    "arcpy.management.CopyFeatures(\"in_memory\\ZM_E\" + str(i), input_folder + \"/RESULTADOS/ZM_4.shp\")\n",
    "arcpy.Delete_management(\"in_memory\")\n",
    "globals().clear()"
   ]
  },
  {
   "cell_type": "code",
   "execution_count": null,
   "metadata": {},
   "outputs": [],
   "source": []
  },
  {
   "cell_type": "code",
   "execution_count": null,
   "metadata": {},
   "outputs": [],
   "source": []
  }
 ],
 "metadata": {
  "kernelspec": {
   "display_name": "ArcGISPro",
   "language": "Python",
   "name": "python3"
  },
  "language_info": {
   "file_extension": ".py",
   "name": "python",
   "version": "3"
  }
 },
 "nbformat": 4,
 "nbformat_minor": 2
}
